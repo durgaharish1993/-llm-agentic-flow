{
 "cells": [
  {
   "cell_type": "code",
   "execution_count": 1,
   "metadata": {},
   "outputs": [
    {
     "name": "stderr",
     "output_type": "stream",
     "text": [
      "/Users/dimbul/Desktop/personal/deep-learning/llm-agentic-flow/.venv/lib/python3.12/site-packages/pydantic/_internal/_config.py:345: UserWarning: Valid config keys have changed in V2:\n",
      "* 'schema_extra' has been renamed to 'json_schema_extra'\n",
      "  warnings.warn(message, UserWarning)\n"
     ]
    }
   ],
   "source": [
    "from langchain_openai import ChatOpenAI\n",
    "from dotenv import load_dotenv\n",
    "import os\n",
    "from openai import OpenAI\n",
    "from contracts import BaseplateDesign\n",
    "from code_generation import CodeOutput\n",
    "from task_output import Task "
   ]
  },
  {
   "cell_type": "code",
   "execution_count": 2,
   "metadata": {},
   "outputs": [],
   "source": [
    "problem_txt  = \"./problem/constraint.txt\"\n",
    "output_txt   = \"./problem/output.txt\"\n",
    "\n",
    "with open(problem_txt, 'r') as fp:\n",
    "    problem_txt  = fp.read()"
   ]
  },
  {
   "cell_type": "code",
   "execution_count": 3,
   "metadata": {},
   "outputs": [],
   "source": [
    "OPENAI_KEY = os.getenv('OPENAI_API_KEY')\n",
    "client = OpenAI()\n"
   ]
  },
  {
   "cell_type": "markdown",
   "metadata": {},
   "source": [
    "### 1. Requriment Parsing and Structuring  "
   ]
  },
  {
   "cell_type": "code",
   "execution_count": 4,
   "metadata": {},
   "outputs": [
    {
     "name": "stderr",
     "output_type": "stream",
     "text": [
      "/Users/dimbul/Desktop/personal/deep-learning/llm-agentic-flow/.venv/lib/python3.12/site-packages/pydantic/_internal/_config.py:345: UserWarning: Valid config keys have changed in V2:\n",
      "* 'schema_extra' has been renamed to 'json_schema_extra'\n",
      "  warnings.warn(message, UserWarning)\n"
     ]
    }
   ],
   "source": [
    "llm = ChatOpenAI(model=\"gpt-4o-mini\")\n",
    "structured_llm = llm.with_structured_output(BaseplateDesign)\n",
    "output = structured_llm.invoke(problem_txt)"
   ]
  },
  {
   "cell_type": "code",
   "execution_count": 5,
   "metadata": {},
   "outputs": [
    {
     "name": "stderr",
     "output_type": "stream",
     "text": [
      "/var/folders/np/wf5kwsmd3v73ryvzxmxbz4m00000gn/T/ipykernel_71836/1946351800.py:1: PydanticDeprecatedSince20: The `dict` method is deprecated; use `model_dump` instead. Deprecated in Pydantic V2.0 to be removed in V3.0. See Pydantic V2 Migration Guide at https://errors.pydantic.dev/2.10/migration/\n",
      "  output.dict()\n"
     ]
    },
    {
     "data": {
      "text/plain": [
       "{'load_capacity': {'primary_vertical_load': 3000.0,\n",
       "  'lateral_load': 300.0,\n",
       "  'factor_of_safety': 2.0},\n",
       " 'dimensions_and_mounting': {'max_footprint': '200 mm x 200 mm',\n",
       "  'plate_thickness': 10.0,\n",
       "  'mounting_holes': 4,\n",
       "  'hole_spacing': 'Must fit within 200 mm x 200 mm footprint'},\n",
       " 'deflection_constraint': {'max_deflection': 0.5},\n",
       " 'weight_and_cost': {'max_weight': 3.0, 'estimated_cost': 20.0},\n",
       " 'manufacturability': {'fabrication_methods': ['laser cutting',\n",
       "   'waterjet cutting',\n",
       "   'drilling'],\n",
       "  'geometry_simplicity': True},\n",
       " 'safety_and_installation': {'sharp_edges': False,\n",
       "  'rounded_corners': True,\n",
       "  'bolt_hole_reinforcement': True,\n",
       "  'reference_mark': 'Center hole or marked reference'}}"
      ]
     },
     "execution_count": 5,
     "metadata": {},
     "output_type": "execute_result"
    }
   ],
   "source": [
    "output.dict()\n"
   ]
  },
  {
   "cell_type": "markdown",
   "metadata": {},
   "source": [
    "### 2. Code Geneartion using 5 Softwares and 3 Scripts"
   ]
  },
  {
   "cell_type": "code",
   "execution_count": 6,
   "metadata": {},
   "outputs": [
    {
     "name": "stderr",
     "output_type": "stream",
     "text": [
      "/var/folders/np/wf5kwsmd3v73ryvzxmxbz4m00000gn/T/ipykernel_71836/4113263486.py:5: PydanticDeprecatedSince20: The `json` method is deprecated; use `model_dump_json` instead. Deprecated in Pydantic V2.0 to be removed in V3.0. See Pydantic V2 Migration Guide at https://errors.pydantic.dev/2.10/migration/\n",
      "  (\"human\", f\"Here is the string version constraint Data - {str(output.json())}\")]\n"
     ]
    }
   ],
   "source": [
    "\n",
    "prompt_code_generation = [(\n",
    "        \"system\",\n",
    "        \"You are specialized in mechanical hardware engineering job. Your Job is to generate 3 distinct Automatable Complete CAD Script using each software package,  1. SolidWorks \\n 2. Autodesk \\n 3. Openscad \\n 4. Freecad \\n  5.Onshape \\n.  You will be provided with requriments in JSON format. Generate a total of 15 scripts\",\n",
    "    ),\n",
    "    (\"human\", f\"Here is the string version constraint Data - {str(output.json())}\")]\n",
    "\n",
    "code_msg = llm.invoke(prompt_code_generation)\n",
    "code_structure = llm.with_structured_output(CodeOutput)\n",
    "code_output : CodeOutput= code_structure.invoke( code_msg.content)\n",
    "\n",
    "\n"
   ]
  },
  {
   "cell_type": "code",
   "execution_count": null,
   "metadata": {},
   "outputs": [],
   "source": [
    "for code_gen in code_output.code_output:\n",
    "    print(\"-----------------------------------------\")\n",
    "    print(\"software used -- \", code_gen.software_used)\n",
    "    print(code_gen.code_snippet)"
   ]
  },
  {
   "cell_type": "markdown",
   "metadata": {},
   "source": [
    "### 3. Generating Design Plan "
   ]
  },
  {
   "cell_type": "code",
   "execution_count": null,
   "metadata": {},
   "outputs": [],
   "source": [
    "\n",
    "design_plan_generator = [\n",
    "    (\n",
    "        \"system\",\n",
    "        \"You are specialized in mechanical hardware engineering job and you are a manager of building the product.  You are tasked to build the design plan of the component.  You need to detail all the steps in the process.  Priotize the steps and generate a plan\",\n",
    "    ),\n",
    "    (\"human\", f\"Here is the string version constraint and job details - {str(output.json())}\"),\n",
    "]\n",
    "design_plan = llm.invoke(design_plan_generator)\n",
    "design_plan_structure = llm.with_structured_output(Task)\n",
    "design_plan_output : Task= design_plan_structure.invoke( design_plan.content)\n",
    "\n"
   ]
  },
  {
   "cell_type": "code",
   "execution_count": null,
   "metadata": {},
   "outputs": [],
   "source": [
    "for task_data in design_plan_output.sub_tasks:\n",
    "    print(\"-----------------------------------------------------------------------\")\n",
    "    print(\"Desc. of the Sub-Task ::\", task_data.description)\n",
    "    print(\"Actions :: \", \", \".join(task_data.actions))\n",
    "    print(\"Acceptance Criteria :: \", \", \".join(task_data.acceptance_criteria))\n"
   ]
  }
 ],
 "metadata": {
  "kernelspec": {
   "display_name": ".venv",
   "language": "python",
   "name": "python3"
  },
  "language_info": {
   "codemirror_mode": {
    "name": "ipython",
    "version": 3
   },
   "file_extension": ".py",
   "mimetype": "text/x-python",
   "name": "python",
   "nbconvert_exporter": "python",
   "pygments_lexer": "ipython3",
   "version": "3.12.6"
  }
 },
 "nbformat": 4,
 "nbformat_minor": 2
}
