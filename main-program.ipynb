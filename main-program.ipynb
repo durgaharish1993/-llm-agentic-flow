{
 "cells": [
  {
   "cell_type": "code",
   "execution_count": 1,
   "metadata": {},
   "outputs": [
    {
     "name": "stderr",
     "output_type": "stream",
     "text": [
      "/Users/dimbul/Desktop/personal/deep-learning/llm-agentic-flow/.venv/lib/python3.12/site-packages/pydantic/_internal/_config.py:345: UserWarning: Valid config keys have changed in V2:\n",
      "* 'schema_extra' has been renamed to 'json_schema_extra'\n",
      "  warnings.warn(message, UserWarning)\n"
     ]
    }
   ],
   "source": [
    "from langchain_openai import ChatOpenAI\n",
    "from dotenv import load_dotenv\n",
    "import os\n",
    "from openai import OpenAI\n",
    "from contracts import BaseplateDesign\n",
    "from code_generation import CodeOutput\n",
    "from task_output import Task "
   ]
  },
  {
   "cell_type": "code",
   "execution_count": 2,
   "metadata": {},
   "outputs": [],
   "source": [
    "problem_txt  = \"./problem/constraint.txt\"\n",
    "output_txt   = \"./problem/output.txt\"\n",
    "\n",
    "with open(problem_txt, 'r') as fp:\n",
    "    problem_txt  = fp.read()"
   ]
  },
  {
   "cell_type": "code",
   "execution_count": 3,
   "metadata": {},
   "outputs": [],
   "source": [
    "OPENAI_KEY = os.getenv('OPENAI_API_KEY')\n",
    "client = OpenAI()\n"
   ]
  },
  {
   "cell_type": "markdown",
   "metadata": {},
   "source": [
    "### 1. Requirement Parsing and Structuring  "
   ]
  },
  {
   "cell_type": "code",
   "execution_count": 4,
   "metadata": {},
   "outputs": [
    {
     "name": "stderr",
     "output_type": "stream",
     "text": [
      "/Users/dimbul/Desktop/personal/deep-learning/llm-agentic-flow/.venv/lib/python3.12/site-packages/pydantic/_internal/_config.py:345: UserWarning: Valid config keys have changed in V2:\n",
      "* 'schema_extra' has been renamed to 'json_schema_extra'\n",
      "  warnings.warn(message, UserWarning)\n"
     ]
    }
   ],
   "source": [
    "llm = ChatOpenAI(model=\"gpt-4o-mini\")\n",
    "structured_llm = llm.with_structured_output(BaseplateDesign)\n",
    "output = structured_llm.invoke(problem_txt)"
   ]
  },
  {
   "cell_type": "code",
   "execution_count": 5,
   "metadata": {},
   "outputs": [
    {
     "name": "stderr",
     "output_type": "stream",
     "text": [
      "/var/folders/np/wf5kwsmd3v73ryvzxmxbz4m00000gn/T/ipykernel_71836/1946351800.py:1: PydanticDeprecatedSince20: The `dict` method is deprecated; use `model_dump` instead. Deprecated in Pydantic V2.0 to be removed in V3.0. See Pydantic V2 Migration Guide at https://errors.pydantic.dev/2.10/migration/\n",
      "  output.dict()\n"
     ]
    },
    {
     "data": {
      "text/plain": [
       "{'load_capacity': {'primary_vertical_load': 3000.0,\n",
       "  'lateral_load': 300.0,\n",
       "  'factor_of_safety': 2.0},\n",
       " 'dimensions_and_mounting': {'max_footprint': '200 mm x 200 mm',\n",
       "  'plate_thickness': 10.0,\n",
       "  'mounting_holes': 4,\n",
       "  'hole_spacing': 'Must fit within 200 mm x 200 mm footprint'},\n",
       " 'deflection_constraint': {'max_deflection': 0.5},\n",
       " 'weight_and_cost': {'max_weight': 3.0, 'estimated_cost': 20.0},\n",
       " 'manufacturability': {'fabrication_methods': ['laser cutting',\n",
       "   'waterjet cutting',\n",
       "   'drilling'],\n",
       "  'geometry_simplicity': True},\n",
       " 'safety_and_installation': {'sharp_edges': False,\n",
       "  'rounded_corners': True,\n",
       "  'bolt_hole_reinforcement': True,\n",
       "  'reference_mark': 'Center hole or marked reference'}}"
      ]
     },
     "execution_count": 5,
     "metadata": {},
     "output_type": "execute_result"
    }
   ],
   "source": [
    "output.dict()\n"
   ]
  },
  {
   "cell_type": "markdown",
   "metadata": {},
   "source": [
    "### 2. Code Geneartion using 5 Softwares and 3 Scripts"
   ]
  },
  {
   "cell_type": "code",
   "execution_count": 6,
   "metadata": {},
   "outputs": [
    {
     "name": "stderr",
     "output_type": "stream",
     "text": [
      "/var/folders/np/wf5kwsmd3v73ryvzxmxbz4m00000gn/T/ipykernel_71836/4113263486.py:5: PydanticDeprecatedSince20: The `json` method is deprecated; use `model_dump_json` instead. Deprecated in Pydantic V2.0 to be removed in V3.0. See Pydantic V2 Migration Guide at https://errors.pydantic.dev/2.10/migration/\n",
      "  (\"human\", f\"Here is the string version constraint Data - {str(output.json())}\")]\n"
     ]
    }
   ],
   "source": [
    "\n",
    "prompt_code_generation = [(\n",
    "        \"system\",\n",
    "        \"You are specialized in mechanical hardware engineering job. Your Job is to generate 3 distinct Automatable Complete CAD Script using each software package,  1. SolidWorks \\n 2. Autodesk \\n 3. Openscad \\n 4. Freecad \\n  5.Onshape \\n.  You will be provided with requriments in JSON format. Generate a total of 15 scripts\",\n",
    "    ),\n",
    "    (\"human\", f\"Here is the string version constraint Data - {str(output.json())}\")]\n",
    "\n",
    "code_msg = llm.invoke(prompt_code_generation)\n",
    "code_structure = llm.with_structured_output(CodeOutput)\n",
    "code_output : CodeOutput= code_structure.invoke( code_msg.content)\n",
    "\n",
    "\n"
   ]
  },
  {
   "cell_type": "code",
   "execution_count": 7,
   "metadata": {},
   "outputs": [
    {
     "name": "stdout",
     "output_type": "stream",
     "text": [
      "-----------------------------------------\n",
      "software used --  SolidWorks\n",
      "Sub Main()\n",
      "    Dim swApp As Object\n",
      "    Set swApp = Application.SldWorks\n",
      "    Dim swDoc As Object\n",
      "    Set swDoc = swApp.NewDocument(\"part\", 0, 0, 0)\n",
      "\n",
      "    ' Create a new sketch on the top plane\n",
      "    Dim swSketch As Object\n",
      "    Set swSketch = swDoc.NewSketch2(0)\n",
      "\n",
      "    ' Draw a rectangle for the base plate (200mm x 200mm)\n",
      "    swSketch.CreateRectangle(0, 0, 200, 200)\n",
      "    swDoc.ClearSelection2 True\n",
      "\n",
      "    ' Extrude the base plate (10mm thickness)\n",
      "    swDoc.FeatureManager.FeatureExtrusion2 True, False, False, 0, 10, 0, False, False, True, True, False, False, 0, 0, 0\n",
      "    swDoc.SaveAs \"BasePlate.SLDPRT\"\n",
      "End Sub\n",
      "-----------------------------------------\n",
      "software used --  SolidWorks\n",
      "Sub Main()\n",
      "    Dim swApp As Object\n",
      "    Set swApp = Application.SldWorks\n",
      "    Dim swDoc As Object\n",
      "    Set swDoc = swApp.OpenDoc(\"BasePlate.SLDPRT\", 1)\n",
      "\n",
      "    ' Add holes - 4 holes in corners with 10mm radius\n",
      "    For i = 0 To 3\n",
      "        Dim xPos As Double\n",
      "        Dim yPos As Double\n",
      "        xPos = (i Mod 2) * 190 + 10\n",
      "        yPos = Int(i / 2) * 190 + 10\n",
      "\n",
      "        swDoc.InsertCircleByCenter(xPos, yPos, 10)\n",
      "    Next i\n",
      "    swDoc.Rebuild3\n",
      "    swDoc.Save()\n",
      "End Sub\n",
      "-----------------------------------------\n",
      "software used --  SolidWorks\n",
      "Sub Main()\n",
      "    Dim swApp As Object\n",
      "    Set swApp = Application.SldWorks\n",
      "    Dim swDoc As Object\n",
      "    Set swDoc = swApp.OpenDoc(\"BasePlate.SLDPRT\", 1)\n",
      "\n",
      "    ' Create a boss for bolt hole reinforcement (1mm height)\n",
      "    swDoc.FeatureManager.FeatureExtrusion2 True, False, False, 0, 1, 0, False, False, True, True, False, False, 0, 0, 0\n",
      "    swDoc.Save()\n",
      "End Sub\n",
      "-----------------------------------------\n",
      "software used --  Autodesk\n",
      "(defun c:createBasePlate ()\n",
      "  (command \"._Circle\" '(0 0) 100)\n",
      "  (command \"._Extrude\" \"L\" \"10\")\n",
      "  (princ)\n",
      ")  \n",
      "-----------------------------------------\n",
      "software used --  Autodesk\n",
      "(defun c:addHoles ()\n",
      "  (command \"._Circle\" '(10 10) 5)\n",
      "  (command \"._Circle\" '(190 10) 5)\n",
      "  (command \"._Circle\" '(10 190) 5)\n",
      "  (command \"._Circle\" '(190 190) 5)\n",
      "  (princ)\n",
      ") \n",
      "-----------------------------------------\n",
      "software used --  Autodesk\n",
      "(defun c:addReinforcement ()\n",
      "  (command \"._Circle\" '(0 0) 12)\n",
      "  (command \"._Extrude\" \"L\" \"1\")\n",
      "  (princ)\n",
      ") \n",
      "-----------------------------------------\n",
      "software used --  OpenSCAD\n",
      "// Create a base plate\n",
      "module base_plate() {\n",
      "    difference() {\n",
      "        cube([200, 200, 10]);\n",
      "        translate([10, 10, -1]) {\n",
      "            for (x = [0 : 1])\n",
      "                for (y = [0 : 1])\n",
      "                    translate([x * 190, y * 190, 0]) {\n",
      "                        cylinder(r=5, h=10);\n",
      "                    }\n",
      "        }\n",
      "    }\n",
      "}\n",
      "base_plate();\n",
      "-----------------------------------------\n",
      "software used --  OpenSCAD\n",
      "// Adding holes for mounting\n",
      "module mounting_holes() {\n",
      "    for (x = [0 : 1])\n",
      "        for (y = [0 : 1]) {\n",
      "            translate([x * 190 + 10, y * 190 + 10, 0]) {\n",
      "                cylinder(r=5, h=10);\n",
      "            }\n",
      "        }\n",
      "}\n",
      "mounting_holes();\n",
      "-----------------------------------------\n",
      "software used --  OpenSCAD\n",
      "// Adding bolt hole reinforcement\n",
      "module bolt_reinforcement(){\n",
      "    translate([0, 0, 10]) {\n",
      "        cylinder(r=6, h=1);\n",
      "    }\n",
      "}\n",
      "bolt_reinforcement();\n",
      "-----------------------------------------\n",
      "software used --  FreeCAD\n",
      "import FreeCAD, Part\n",
      "\n",
      "doc = FreeCAD.newDocument()\n",
      "plate = Part.makeBox(200, 200, 10)\n",
      "Part.show(plate)\n",
      "doc.recompute()\n",
      "-----------------------------------------\n",
      "software used --  FreeCAD\n",
      "import FreeCAD, Part\n",
      "\n",
      "doc = FreeCAD.ActiveDocument\n",
      "for x in [10, 190]:\n",
      "    for y in [10, 190]:\n",
      "        hole = Part.makeCylinder(5, 10, FreeCAD.Vector(x, y, 0))\n",
      "        Part.show(hole)\n",
      "doc.recompute()\n",
      "-----------------------------------------\n",
      "software used --  FreeCAD\n",
      "import FreeCAD, Part\n",
      "\n",
      "doc = FreeCAD.ActiveDocument\n",
      "reinforce = Part.makeCylinder(6, 1, FreeCAD.Vector(100, 100, 10))\n",
      "Part.show(reinforce)\n",
      "doc.recompute()\n",
      "-----------------------------------------\n",
      "software used --  Onshape\n",
      "var basePlate = new Part();\n",
      "basePlate.createRectangle(200, 200, 10);\n",
      "basePlate.finish();\n",
      "-----------------------------------------\n",
      "software used --  Onshape\n",
      "var holes = new Feature();\n",
      "holes.createHoles([\n",
      "    {x: 10, y: 10, radius: 5},\n",
      "    {x: 190, y: 10, radius: 5},\n",
      "    {x: 10, y: 190, radius: 5},\n",
      "    {x: 190, y: 190, radius: 5}\n",
      "]);\n",
      "-----------------------------------------\n",
      "software used --  Onshape\n",
      "var reinforceHoles = new Feature();\n",
      "reinforceHoles.createCylinder(6, 1, {x: 100, y: 100, z: 10});\n"
     ]
    }
   ],
   "source": [
    "for code_gen in code_output.code_output:\n",
    "    print(\"-----------------------------------------\")\n",
    "    print(\"software used -- \", code_gen.software_used)\n",
    "    print(code_gen.code_snippet)"
   ]
  },
  {
   "cell_type": "markdown",
   "metadata": {},
   "source": [
    "### 3. Generating Design Plan "
   ]
  },
  {
   "cell_type": "code",
   "execution_count": 9,
   "metadata": {},
   "outputs": [
    {
     "name": "stderr",
     "output_type": "stream",
     "text": [
      "/var/folders/np/wf5kwsmd3v73ryvzxmxbz4m00000gn/T/ipykernel_71836/839831756.py:6: PydanticDeprecatedSince20: The `json` method is deprecated; use `model_dump_json` instead. Deprecated in Pydantic V2.0 to be removed in V3.0. See Pydantic V2 Migration Guide at https://errors.pydantic.dev/2.10/migration/\n",
      "  (\"human\", f\"Here is the string version constraint and job details - {str(output.json())}\"),\n"
     ]
    }
   ],
   "source": [
    "design_plan_generator = [\n",
    "    (\n",
    "        \"system\",\n",
    "        \"You are specialized in mechanical hardware engineering job and you are a manager of building the product.  You are tasked to build the design plan of the component.  You need to detail all the steps in the process.  Priotize the steps and generate a plan\",\n",
    "    ),\n",
    "    (\"human\", f\"Here is the string version constraint and job details - {str(output.json())}\"),\n",
    "]\n",
    "design_plan = llm.invoke(design_plan_generator)\n",
    "design_plan_structure = llm.with_structured_output(Task)\n",
    "design_plan_output : Task= design_plan_structure.invoke( design_plan.content)\n",
    "\n"
   ]
  },
  {
   "cell_type": "code",
   "execution_count": 10,
   "metadata": {},
   "outputs": [
    {
     "name": "stdout",
     "output_type": "stream",
     "text": [
      "-----------------------------------------------------------------------\n",
      "Desc. of the Sub-Task :: Analyze the job details and constraints provided. Understand the purpose of the component and how each constraint plays a role in its design.\n",
      "Actions ::  Analyze the job constraints, Identify load capacities and limits, Record essential specifications\n",
      "Acceptance Criteria ::  All specifications are clearly defined, Constraints are understood and documented, Specifications align with job requirements\n",
      "-----------------------------------------------------------------------\n",
      "Desc. of the Sub-Task :: Generate multiple design concepts that fit within the constraints, considering manufacturability.\n",
      "Actions ::  Create initial sketches, Model concepts using CAD software, Consider different plate thicknesses and hole placements\n",
      "Acceptance Criteria ::  Multiple design concepts are created, Concepts fit within specified constraints, CAD models are prepared for analysis\n",
      "-----------------------------------------------------------------------\n",
      "Desc. of the Sub-Task :: Perform Finite Element Analysis (FEA) on the initial designs to evaluate load distribution and deformation under load.\n",
      "Actions ::  Conduct FEA simulations, Evaluate maximum deflection, Analyze load distribution across components\n",
      "Acceptance Criteria ::  FEA results are documented, Deflection is below the limit, Structural integrity is verified under loads\n",
      "-----------------------------------------------------------------------\n",
      "Desc. of the Sub-Task :: Refine the design based on results from structural analysis, ensuring manufacturability is maintained.\n",
      "Actions ::  Adjust design to minimize deflection, Simplify for manufacturability, Confirm geometry simplicity\n",
      "Acceptance Criteria ::  Design is optimized for strength and weight, Manufacturability constraints are confirmed, Structure integrity is maintained in new designs\n",
      "-----------------------------------------------------------------------\n",
      "Desc. of the Sub-Task :: Select materials that can handle load requirements and adhere to cost constraints.\n",
      "Actions ::  Research material options, Evaluate weight vs strength, Confirm manufacturing methods compatibility\n",
      "Acceptance Criteria ::  Material selection is documented, Materials meet weight and strength requirements, Costs are aligned with budget\n",
      "-----------------------------------------------------------------------\n",
      "Desc. of the Sub-Task :: Create detailed engineering drawings of the chosen design using CAD software.\n",
      "Actions ::  Draft engineering drawings, Include tolerance and fabrication details, Annotate safety features\n",
      "Acceptance Criteria ::  Drawings are complete and accurate, All specifications are included, Safety features are clearly detailed\n",
      "-----------------------------------------------------------------------\n",
      "Desc. of the Sub-Task :: Build a prototype of the component following finalized design specifications.\n",
      "Actions ::  Select manufacturing method, Produce the prototype, Test for adherence to specifications\n",
      "Acceptance Criteria ::  Prototype is completed as per design, Manufacturing method is appropriate, Initial testing aligns with intended specifications\n",
      "-----------------------------------------------------------------------\n",
      "Desc. of the Sub-Task :: Conduct stress-testing on the prototype to verify its load capacity and safety.\n",
      "Actions ::  Apply vertical and lateral loads, Measure deflection during tests, Document performance and safety features\n",
      "Acceptance Criteria ::  Testing results meet safety and capacity requirements, Deflection remains within limits, All safety features function correctly\n",
      "-----------------------------------------------------------------------\n",
      "Desc. of the Sub-Task :: Refine the design based on testing feedback and ensure all changes meet original constraints.\n",
      "Actions ::  Analyze test results, Make adjustments to design as necessary, Re-evaluate all constraints post-testing\n",
      "Acceptance Criteria ::  Design is finalized with all feedback incorporated, All original constraints are still met, Revised design is documented\n",
      "-----------------------------------------------------------------------\n",
      "Desc. of the Sub-Task :: Prepare a production plan including fabrication timelines and budgets.\n",
      "Actions ::  Outline fabrication steps, Estimate resource needs, Collaborate with manufacturing teams\n",
      "Acceptance Criteria ::  Production plan is comprehensive, Timelines and budgets are realistic, Manufacturing readiness is confirmed\n",
      "-----------------------------------------------------------------------\n",
      "Desc. of the Sub-Task :: Oversee the manufacturing process to ensure compliance with design specifications.\n",
      "Actions ::  Monitor production, Implement quality control checks, Ensure compliance with safety standards\n",
      "Acceptance Criteria ::  Production meets design specifications, Quality assurance processes are in place, Compliance with safety standards is validated\n",
      "-----------------------------------------------------------------------\n",
      "Desc. of the Sub-Task :: Compile all documentation for future reference and regulatory compliance.\n",
      "Actions ::  Gather all design and testing documents, Ensure clarity and thoroughness, Archive documents for future access\n",
      "Acceptance Criteria ::  Documentation is complete and organized, All relevant materials are included, Documents meet regulatory standards\n",
      "-----------------------------------------------------------------------\n",
      "Desc. of the Sub-Task :: Conduct a review of the overall project to analyze successes and areas for improvement.\n",
      "Actions ::  Collect feedback from users, Analyze project execution, Document lessons learned\n",
      "Acceptance Criteria ::  Feedback is collected and assessed, Successes and improvements are identified, Lessons learned are documented for future projects\n"
     ]
    }
   ],
   "source": [
    "for task_data in design_plan_output.sub_tasks:\n",
    "    print(\"-----------------------------------------------------------------------\")\n",
    "    print(\"Desc. of the Sub-Task ::\", task_data.description)\n",
    "    print(\"Actions :: \", \", \".join(task_data.actions))\n",
    "    print(\"Acceptance Criteria :: \", \", \".join(task_data.acceptance_criteria))\n"
   ]
  },
  {
   "cell_type": "code",
   "execution_count": null,
   "metadata": {},
   "outputs": [],
   "source": []
  }
 ],
 "metadata": {
  "kernelspec": {
   "display_name": ".venv",
   "language": "python",
   "name": "python3"
  },
  "language_info": {
   "codemirror_mode": {
    "name": "ipython",
    "version": 3
   },
   "file_extension": ".py",
   "mimetype": "text/x-python",
   "name": "python",
   "nbconvert_exporter": "python",
   "pygments_lexer": "ipython3",
   "version": "3.12.6"
  }
 },
 "nbformat": 4,
 "nbformat_minor": 2
}
